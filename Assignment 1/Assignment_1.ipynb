{
 "cells": [
  {
   "attachments": {},
   "cell_type": "markdown",
   "metadata": {},
   "source": [
    "Question 1\n",
    "The following is a list of 10 students ages:\n",
    "ages = [19, 22, 19, 24, 20, 25, 26, 24, 25, 24]\n",
    "    • Sort the list and find the min and max age\n",
    "    • Add the min age and the max age again to the list\n",
    "    • Find the median age (one middle item or two middle items divided by two)\n",
    "    • Find the average age (sum of all items divided by their number)\n",
    "    • Find the range of the ages (max minus min)"
   ]
  },
  {
   "cell_type": "code",
   "execution_count": 2,
   "metadata": {},
   "outputs": [
    {
     "name": "stdout",
     "output_type": "stream",
     "text": [
      "[19, 19, 20, 22, 24, 24, 24, 25, 25, 26, 19, 26]\n",
      "Minimum Age =  19 , Maximum Age =  26 , Median =  24.0 , Average =  22.75 , Range =  7 .\n"
     ]
    }
   ],
   "source": [
    "ages = [19, 22, 19, 24, 20, 25, 26, 24, 25, 24]\n",
    "# Sort the list and find the min and max age\n",
    "ages.sort()\n",
    "min_age = ages[0]\n",
    "max_age = ages[-1]\n",
    "\n",
    "# Add the min age and the max age again to the list\n",
    "ages.append(min_age)\n",
    "ages.append(max_age)\n",
    "\n",
    "# Find the median age\n",
    "if len(ages) % 2 == 0: # if the length of the list is even\n",
    "    median = (ages[int(len(ages) / 2)] + ages[int(len(ages) / 2) - 1]) / 2 # int rounds the decimal down\n",
    "else: # if the length of the list is odd\n",
    "    median = ages[int(len(ages) / 2)]/2\n",
    "\n",
    "# Find the average age\n",
    "average = sum(ages) / len(ages)\n",
    "\n",
    "# Find the range of the ages\n",
    "ages_range = max_age - min_age\n",
    "\n",
    "#Displaying the results\n",
    "print(ages)\n",
    "print(\"Minimum Age = \",min_age,\", Maximum Age = \",max_age,\", Median = \",median,\", Average = \",average,\", Range = \",ages_range,\".\")"
   ]
  },
  {
   "attachments": {},
   "cell_type": "markdown",
   "metadata": {},
   "source": [
    "Question 2\n",
    "    •Create an empty dictionary called dog\n",
    "    • Add name, color, breed, legs, age to the dog dictionary\n",
    "    • Create a student dictionary and add first name, last name, gender, age, marital status, skills, country, city and address as keys for the dictionary\n",
    "    • Get the length of the student dictionary\n",
    "    • Get the value of skills and check the data type, it should be a list\n",
    "    • Modify the skills values by adding one or two skills\n",
    "    • Get the dictionary keys as a list\n",
    "    • Get the dictionary values as a list"
   ]
  },
  {
   "cell_type": "code",
   "execution_count": 3,
   "metadata": {},
   "outputs": [
    {
     "name": "stdout",
     "output_type": "stream",
     "text": [
      "9\n",
      "skills:  ['Python', 'Java'] . Class:  <class 'list'>\n",
      "['first_name', 'last_name', 'gender', 'age', 'marital_status', 'skills', 'country', 'city', 'address']\n",
      "['Gautham Reddy', 'Tota', 'male', 22, 'single', ['Python', 'Java', 'C', 'HTML'], 'United States of America', 'St Louis', '1234, Heritage Valley Dr, High Ridge']\n"
     ]
    }
   ],
   "source": [
    "# Creating an empty dictionary called dog\n",
    "dog = {}\n",
    "\n",
    "# Adding keys and values to the dog dictionary\n",
    "dog[\"name\"] = \"Theo\"\n",
    "dog[\"color\"] = \"Chocolate\"\n",
    "dog[\"breed\"] = \"Golden Retriever\"\n",
    "dog[\"legs\"] = 4\n",
    "dog[\"age\"] = 2\n",
    "\n",
    "# Creating the student dictionary\n",
    "student = {}\n",
    "\n",
    "# Adding keys and values to the student dictionary\n",
    "student[\"first_name\"] = \"Gautham Reddy\"\n",
    "student[\"last_name\"] = \"Tota\"\n",
    "student[\"gender\"] = \"male\"\n",
    "student[\"age\"] = 22\n",
    "student[\"marital_status\"] = \"single\"\n",
    "student[\"skills\"] = [\"Python\", \"Java\"]\n",
    "student[\"country\"] = \"United States of America\"\n",
    "student[\"city\"] = \"St Louis\"\n",
    "student[\"address\"] = \"1234, Heritage Valley Dr, High Ridge\"\n",
    "\n",
    "# Displaying the length of the student dictionary\n",
    "print(len(student))\n",
    "\n",
    "# Displaying the value of skills and checking the data type\n",
    "print(\"skills: \",student[\"skills\"],\". Class: \",type(student[\"skills\"]))\n",
    "\n",
    "# Appending the skills values\n",
    "student[\"skills\"].append(\"C\")\n",
    "student[\"skills\"].append(\"HTML\")\n",
    "\n",
    "# Displaying the dictionary keys as a list\n",
    "print(list(student.keys()))\n",
    "\n",
    "# Displaying the dictionary values as a list\n",
    "print(list(student.values()))\n"
   ]
  },
  {
   "attachments": {},
   "cell_type": "markdown",
   "metadata": {},
   "source": [
    "Question 3\n",
    "    •Create a tuple containing names of your sisters and your brothers (imaginary siblings are fine)\n",
    "    •Join brothers and sisters tuples and assign it to siblings\n",
    "    • How many siblings do you have?"
   ]
  },
  {
   "cell_type": "code",
   "execution_count": 4,
   "metadata": {},
   "outputs": [
    {
     "name": "stdout",
     "output_type": "stream",
     "text": [
      "I have  4  siblings.\n",
      "Here is the list of my family members:  ('Ananya', 'Shreya', 'Arjun', 'Lakshman', 'Ram', 'Rama')\n"
     ]
    }
   ],
   "source": [
    "# Creating a tuple named siblings with the names of siblings\n",
    "siblings_girls = (\"Ananya\", \"Shreya\")\n",
    "siblings_boys = (\"Arjun\", \"Lakshman\")\n",
    "\n",
    "# Combining the above tuples and creating siblings\n",
    "siblings = siblings_girls + siblings_boys\n",
    "\n",
    "# Calculating and Displaying the length of siblings to get the number of siblings\n",
    "num_siblings = len(siblings)\n",
    "print(\"I have \",num_siblings,\" siblings.\")\n",
    "\n",
    "# Modifying the siblings tuple and adding Father and Mother to it and creating family_members tuple\n",
    "family_members = siblings + (\"Ram\",\"Rama\")\n",
    "\n",
    "# Displaying the family_members tuple\n",
    "print(\"Here is the list of my family members: \",family_members)\n",
    "\n"
   ]
  },
  {
   "attachments": {},
   "cell_type": "markdown",
   "metadata": {},
   "source": [
    "Question 4\n",
    "    it_companies = {'Facebook', 'Google', 'Microsoft', 'Apple', 'IBM', 'Oracle', 'Amazon'}\n",
    "    A = {19, 22, 24, 20, 25, 26}\n",
    "    B = {19, 22, 20, 25, 26, 24, 28, 27}\n",
    "    age = [22, 19, 24, 25, 26, 24, 25, 24]\n",
    "    • Find the length of the set it_companies\n",
    "    • Add 'Twitter' to it_companies\n",
    "    • Insert multiple IT companies at once to the set it_companies\n",
    "    • Remove one of the companies from the set it_companies\n",
    "    • What is the difference between remove and discard\n",
    "    • Join A and B\n",
    "    • Find A intersection B\n",
    "    • Is A subset of B\n",
    "    • Are A and B disjoint sets\n",
    "    • Join A with B and B with A\n",
    "    • What is the symmetric difference between A and B\n",
    "    • Delete the sets completely\n",
    "    • Convert the ages to a set and compare the length of the list and the set."
   ]
  },
  {
   "cell_type": "code",
   "execution_count": 158,
   "metadata": {},
   "outputs": [
    {
     "name": "stdout",
     "output_type": "stream",
     "text": [
      "The length is:  7\n",
      "{'IBM', 'Cognizant', 'Tesla', 'Twitter', 'Google', 'Amazon', 'Microsoft', 'Oracle', 'Apple', 'Facebook'}\n",
      "{'IBM', 'Tesla', 'Twitter', 'Google', 'Amazon', 'Microsoft', 'Oracle', 'Apple', 'Facebook'}\n",
      "Adding A and B:  {19, 20, 22, 24, 25, 26, 27, 28}\n",
      "A intersection B:  {19, 20, 22, 24, 25, 26}\n",
      "True\n",
      "False\n",
      "B union A  {19, 20, 22, 24, 25, 26, 27, 28}\n",
      "A union B:  {19, 20, 22, 24, 25, 26, 27, 28}\n",
      "{27, 28}\n",
      "8\n",
      "{19, 22, 24, 25, 26}\n",
      "Length of set:  5\n"
     ]
    }
   ],
   "source": [
    "# Given Data\n",
    "it_companies = {'Facebook', 'Google', 'Microsoft', 'Apple', 'IBM', 'Oracle', 'Amazon'}\n",
    "A = {19, 22, 24, 20, 25, 26}\n",
    "B = {19, 22, 20, 25, 26, 24, 28, 27}\n",
    "age = [22, 19, 24, 25, 26, 24, 25, 24]\n",
    "\n",
    "# Finding and printing the length of it_companies\n",
    "print(\"The length is: \",len(it_companies))\n",
    "\n",
    "# Adding Twitter to it_companies\n",
    "it_companies.add('Twitter')\n",
    "\n",
    "# Adding multiple companies to the set by using update\n",
    "it_companies.update(['Tesla','Cognizant'])\n",
    "print(it_companies)\n",
    "\n",
    "# Removing one company from the set\n",
    "it_companies.remove('Cognizant')\n",
    "print(it_companies)\n",
    "\n",
    "# The remove method will raise an error if the element does not exist whereas the discard method will not retuen any error\n",
    "\n",
    "# Joining A and B\n",
    "print(\"Adding A and B: \",A.union(B))\n",
    "\n",
    "# Finding A intersection B\n",
    "print(\"A intersection B: \",A.intersection(B))\n",
    "\n",
    "# Check if A is a subset of B and output True or False based on the result\n",
    "print(A.issubset(B))\n",
    "\n",
    "# Checking if A and B are disjoint sets\n",
    "print(A.isdisjoint(B))\n",
    "\n",
    "# Joining A with B\n",
    "print(\"B union A \",A.union(B))\n",
    "\n",
    "# Joining B with A\n",
    "print(\"A union B: \",B.union(A))\n",
    "\n",
    "# Symmetric difference between A and B\n",
    "print(A.symmetric_difference(B))\n",
    "\n",
    "# Deleting all the sets using del \n",
    "del it_companies\n",
    "del A\n",
    "del B\n",
    "\n",
    "# length of list age\n",
    "print(len(age))\n",
    "\n",
    "# Converting list to set and calculating the length\n",
    "age_set = set(age)\n",
    "print(age_set)\n",
    "print(\"Length of set: \", len(age_set))"
   ]
  },
  {
   "attachments": {},
   "cell_type": "markdown",
   "metadata": {},
   "source": [
    "Question 5\n",
    "    The radius of a circle is 30 meters.\n",
    "    • Calculate the area of a circle and assign the value to a variable name of _area_of_circle_\n",
    "    • Calculate the circumference of a circle and assign the value to a variable name of\n",
    "    _circum_of_circle_\n",
    "    • Take radius as user input and calculate the area"
   ]
  },
  {
   "cell_type": "code",
   "execution_count": 6,
   "metadata": {},
   "outputs": [
    {
     "name": "stdout",
     "output_type": "stream",
     "text": [
      "Area =  5652.0\n",
      "Circuference =  188.4\n",
      "New Area =  628.0\n"
     ]
    }
   ],
   "source": [
    "# Given Data\n",
    "radius = 30\n",
    "\n",
    "# Calculating area of circle without using math module\n",
    "_area_of_circle_ = 2 * 3.14 * radius**2\n",
    "print(\"Area = \",_area_of_circle_)\n",
    "\n",
    "# Calculating the circumference of the circle\n",
    "_circum_of_circle_ = 2 * 3.14 * radius\n",
    "print(\"Circuference = \", _circum_of_circle_)\n",
    "\n",
    "# Taking radius as input from the user as a float to accomodate \n",
    "radius = float(input(\"What is the radius of the circle? \"))\n",
    "\n",
    "# Calculating the area using the new radius\n",
    "_area_of_circle_ = 2 * 3.14 * radius**2\n",
    "print(\"New Area = \",_area_of_circle_)"
   ]
  },
  {
   "attachments": {},
   "cell_type": "markdown",
   "metadata": {},
   "source": [
    "Question 6\n",
    "    “I am a teacher and I love to inspire and teach people”\n",
    "        • How many unique words have been used in the sentence? Use the split methods and set\n",
    "        to get the unique words"
   ]
  },
  {
   "cell_type": "code",
   "execution_count": 7,
   "metadata": {},
   "outputs": [
    {
     "name": "stdout",
     "output_type": "stream",
     "text": [
      "{'people', 'a', 'inspire', 'am', 'love', 'to', 'teach', 'and', 'I', 'teacher'}\n",
      "Number of unique words =  10\n"
     ]
    }
   ],
   "source": [
    "# Given data\n",
    "sentence = \"I am a teacher and I love to inspire and teach people\"\n",
    "\n",
    "# Splitting the sentence to make a set\n",
    "words = set(sentence.split())\n",
    "print(words)\n",
    "\n",
    "# Printing the number of unique words\n",
    "print(\"Number of unique words = \", len(words))"
   ]
  },
  {
   "attachments": {},
   "cell_type": "markdown",
   "metadata": {},
   "source": [
    "Question 7\n",
    "    Use a tab escape sequence to get the following lines.\n",
    "    Name Age Country City\n",
    "    Asabeneh 250 Finland Helsinki"
   ]
  },
  {
   "cell_type": "code",
   "execution_count": 163,
   "metadata": {},
   "outputs": [
    {
     "name": "stdout",
     "output_type": "stream",
     "text": [
      "Name    \tAge\tCountry\tCity \n",
      "Asabeneh\t250\tFinland\tHelsinki\n"
     ]
    }
   ],
   "source": [
    "# Creating the text using the tab escape sequnce\n",
    "text = 'Name    \\tAge\\tCountry\\tCity \\nAsabeneh\\t250\\tFinland\\tHelsinki'\n",
    "print(text)"
   ]
  },
  {
   "attachments": {},
   "cell_type": "markdown",
   "metadata": {},
   "source": [
    "Question 8\n",
    "    Use the string formatting method to display the following:\n",
    "    radius = 10\n",
    "    area = 3.14 * radius ** 2\n",
    "    “The area of a circle with radius 10 is 314 meters square.”"
   ]
  },
  {
   "cell_type": "code",
   "execution_count": 9,
   "metadata": {},
   "outputs": [
    {
     "name": "stdout",
     "output_type": "stream",
     "text": [
      "The area of a circle with radius 10 is 314.0 meters square.\n"
     ]
    }
   ],
   "source": [
    "# Given Data\n",
    "rad = 10\n",
    "area = 3.14 * rad ** 2\n",
    "\n",
    "# Creating the output text using string formatting\n",
    "text = \"The area of a circle with radius {} is {} meters square.\".format(rad,area)\n",
    "print(text)\n"
   ]
  },
  {
   "attachments": {},
   "cell_type": "markdown",
   "metadata": {},
   "source": [
    "Question 9\n",
    "    Write a program, which reads weights (Ibs.) of N students into a list and convert these weights to kilograms in a separate list using Loop. N: No of students (Read input from user)\n",
    "    Ex: LI: [150, 155, 145, 148]\n",
    "    Output: [68.03, 70.3, 65.77, 67.13]"
   ]
  },
  {
   "cell_type": "code",
   "execution_count": 1,
   "metadata": {},
   "outputs": [
    {
     "name": "stdout",
     "output_type": "stream",
     "text": [
      "[150.0, 155.0, 145.0, 148.0]\n",
      "[68.04, 70.31, 65.77, 67.13]\n"
     ]
    }
   ],
   "source": [
    "# Asking for the number of elements in the list\n",
    "len_weights_lbs = int(input(\"Enter the number of weights to be converted: \"))\n",
    "\n",
    "# Adding the inputs to weights_lbs\n",
    "weight_lbs = [float(input(\"Enter the weight in lbs\")) for i in range(len_weights_lbs)]\n",
    "\n",
    "# Converting the weights into kgs and appending them to weights_kgs \n",
    "weights_kg = [round(i * 0.453592,2) for i in weight_lbs]\n",
    "\n",
    "# Printing the converted weights\n",
    "print(weight_lbs)\n",
    "print(weights_kg)"
   ]
  },
  {
   "attachments": {},
   "cell_type": "markdown",
   "metadata": {},
   "source": [
    "Question 10"
   ]
  },
  {
   "cell_type": "code",
   "execution_count": 3,
   "metadata": {},
   "outputs": [
    {
     "name": "stdout",
     "output_type": "stream",
     "text": [
      "2 is a X\n",
      "6 is a X\n",
      "7 is a X\n",
      "11 is a X\n",
      "Accuracy =  0.25  Sensitivity =  1.0  Specificity =  0.0\n"
     ]
    }
   ],
   "source": [
    "# Given Data\n",
    "circle = [1, 2, 7, 10, 11]\n",
    "x = [3, 6, 6]\n",
    "k = 3\n",
    "\n",
    "# Splitting the data\n",
    "training_data = [1, 3, 6, 10]\n",
    "testing_data = [2, 6, 7, 11]\n",
    "\n",
    "# Calculating the distance matrix\n",
    "distance_matrix = [[abs(p - testing_data[i]) for p in training_data] for i in range(len(testing_data))]\n",
    "\n",
    "# Finding the three lowest distance indices for the nearest neighbours\n",
    "lowest_three_index = [[distance_matrix[i].index(d) for d in sorted(distance_matrix[i])[:k]] for i in range(len(testing_data))]\n",
    "\n",
    "# Calculating the number of nearest neighbour with the same classes\n",
    "x_or_circle = [[len(set([training_data[lowest_three_index[i][j]] for j in range(k)]).intersection(circle)), len(set([training_data[lowest_three_index[i][j]] for j in range(k)]).intersection(x))] for i in range(len(testing_data))]\n",
    "\n",
    "# declaring and initializing variables\n",
    "positive = len(set(testing_data).intersection(set(x)))\n",
    "negative = len(set(testing_data).intersection(set(circle)))\n",
    "true_positive = 0\n",
    "true_negative = 0\n",
    "false_positive = 0\n",
    "false_negative = 0\n",
    "\n",
    "# classifying the elements into the types by using the data from the k nearest neighbours\n",
    "for i in range(len(testing_data)):\n",
    "    if x_or_circle[i][0] > x_or_circle[i][1]:\n",
    "        print(testing_data[i], \"is a circle\")\n",
    "        if testing_data[i] in circle:\n",
    "            true_negative += 1\n",
    "        else:\n",
    "            false_negative += 1\n",
    "    else:\n",
    "        print(testing_data[i], \"is a X\")\n",
    "        if testing_data[i] in x:\n",
    "            true_positive += 1\n",
    "        else:\n",
    "            false_positive += 1\n",
    "\n",
    "# calculating accuracy, sensitivity and specificity\n",
    "accuracy = (true_positive + true_negative) / (positive + negative)\n",
    "sensitivity = true_positive / positive\n",
    "specificity = true_negative / negative\n",
    "\n",
    "print(\"Accuracy = \", accuracy, \" Sensitivity = \", sensitivity, \" Specificity = \", specificity)\n"
   ]
  }
 ],
 "metadata": {
  "kernelspec": {
   "display_name": "Python 3",
   "language": "python",
   "name": "python3"
  },
  "language_info": {
   "codemirror_mode": {
    "name": "ipython",
    "version": 3
   },
   "file_extension": ".py",
   "mimetype": "text/x-python",
   "name": "python",
   "nbconvert_exporter": "python",
   "pygments_lexer": "ipython3",
   "version": "3.9.6 (default, Oct 18 2022, 12:41:40) \n[Clang 14.0.0 (clang-1400.0.29.202)]"
  },
  "orig_nbformat": 4,
  "vscode": {
   "interpreter": {
    "hash": "31f2aee4e71d21fbe5cf8b01ff0e069b9275f58929596ceb00d14d90e3e16cd6"
   }
  }
 },
 "nbformat": 4,
 "nbformat_minor": 2
}
