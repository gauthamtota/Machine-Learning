{
 "cells": [
  {
   "attachments": {},
   "cell_type": "markdown",
   "metadata": {},
   "source": [
    "Use a python code to display the following star pattern using the for loop"
   ]
  },
  {
   "cell_type": "code",
   "execution_count": 18,
   "metadata": {},
   "outputs": [
    {
     "name": "stdout",
     "output_type": "stream",
     "text": [
      "* \n",
      "* * \n",
      "* * * \n",
      "* * * * \n",
      "* * * * * \n",
      "* * * * \n",
      "* * * \n",
      "* * \n",
      "* \n"
     ]
    }
   ],
   "source": [
    "# Using nested for loop to print the first five rows of stars in increment\n",
    "for i in range(1,6):\n",
    "    row = ''\n",
    "    for j in range(i):\n",
    "        row += \"* \"\n",
    "    print(row)\n",
    "\n",
    "# Using nested for loop to print the first five rows of stars in decrement\n",
    "for i in range(4,0,-1):\n",
    "    row = ''\n",
    "    for j in range(i):\n",
    "        row += \"* \"\n",
    "    print(row)\n"
   ]
  },
  {
   "attachments": {},
   "cell_type": "markdown",
   "metadata": {},
   "source": [
    "Use looping to output the elements from a provided list present at odd indexes.\n",
    "my_list = [10, 20, 30, 40, 50, 60, 70, 80, 90, 100]"
   ]
  },
  {
   "cell_type": "code",
   "execution_count": 1,
   "metadata": {},
   "outputs": [
    {
     "name": "stdout",
     "output_type": "stream",
     "text": [
      "20\n",
      "40\n",
      "60\n",
      "80\n",
      "100\n"
     ]
    }
   ],
   "source": [
    "my_list = [10, 20, 30, 40, 50, 60, 70, 80, 90, 100]\n",
    "# Using the for loop with increments of 2 in range to fing the odd elements\n",
    "for i in range(1, len(my_list), 2):\n",
    "    print(my_list[i])"
   ]
  },
  {
   "attachments": {},
   "cell_type": "markdown",
   "metadata": {},
   "source": [
    "Write a code that appends the type of elements from a given list.\n",
    "Input\n",
    " x = [23, ‘Python’, 23.98]\n",
    " Expected output\n",
    " [23, 'Python', 23.98]\n",
    " [<class 'int'>, <class 'str'>, <class 'float'>]"
   ]
  },
  {
   "cell_type": "code",
   "execution_count": 2,
   "metadata": {},
   "outputs": [
    {
     "name": "stdout",
     "output_type": "stream",
     "text": [
      "[23, 'Python', 23.98]\n",
      "[<class 'int'>, <class 'str'>, <class 'float'>]\n"
     ]
    }
   ],
   "source": [
    "x = [23, 'Python', 23.98]\n",
    "# Declaring themepty list to append the types\n",
    "types_x = []\n",
    "# Using for loop to append the types.\n",
    "for i in x:\n",
    "    types_x.append(type(i))\n",
    "# Printing the lists\n",
    "print(x)\n",
    "print(types_x)"
   ]
  },
  {
   "attachments": {},
   "cell_type": "markdown",
   "metadata": {},
   "source": [
    "Write a function that takes a list and returns a new list with unique items of the first list.\n",
    "Sample List: [1,2,3,3,3,3,4,5]\n",
    "Unique List: [1, 2, 3, 4, 5]"
   ]
  },
  {
   "cell_type": "code",
   "execution_count": 4,
   "metadata": {},
   "outputs": [
    {
     "name": "stdout",
     "output_type": "stream",
     "text": [
      "[1, 2, 3, 4, 5]\n"
     ]
    }
   ],
   "source": [
    "sample_List = [1,2,3,3,3,3,4,5]\n",
    "# Using set to get all the unique elements\n",
    "unique_list = list(set(sample_List))\n",
    "# Displaying the unique elements\n",
    "print(unique_list)"
   ]
  },
  {
   "attachments": {},
   "cell_type": "markdown",
   "metadata": {},
   "source": [
    "Write a function that accepts a string and calculate the number of upper-case letters and lower-case\n",
    "letters.\n",
    "Input String: 'The quick Brow Fox'\n",
    "Expected Output:\n",
    "No. of Upper-case characters: 3\n",
    "No. of Lower-case Characters: 12"
   ]
  },
  {
   "cell_type": "code",
   "execution_count": 11,
   "metadata": {},
   "outputs": [
    {
     "name": "stdout",
     "output_type": "stream",
     "text": [
      "No. of Upper-case characters: 3\n",
      "No. of Lower-case characters: 12\n"
     ]
    }
   ],
   "source": [
    "# Defining the function\n",
    "def count_case(string):\n",
    "    #declaring the variables.\n",
    "    upper_case_count = 0\n",
    "    lower_case_count = 0\n",
    "    # Using for and elif loop to count the umber of uppercase and lowercase letters\n",
    "    for i in string:\n",
    "        if i.isupper():\n",
    "            upper_case_count += 1\n",
    "        elif i.islower():\n",
    "            lower_case_count += 1\n",
    "    # Printing the results\n",
    "    print(\"No. of Upper-case characters:\", upper_case_count)\n",
    "    print(\"No. of Lower-case characters:\", lower_case_count)\n",
    "    \n",
    "count_case('The quick Brow Fox')\n"
   ]
  }
 ],
 "metadata": {
  "kernelspec": {
   "display_name": "base",
   "language": "python",
   "name": "python3"
  },
  "language_info": {
   "codemirror_mode": {
    "name": "ipython",
    "version": 3
   },
   "file_extension": ".py",
   "mimetype": "text/x-python",
   "name": "python",
   "nbconvert_exporter": "python",
   "pygments_lexer": "ipython3",
   "version": "3.9.13"
  },
  "orig_nbformat": 4,
  "vscode": {
   "interpreter": {
    "hash": "40d3a090f54c6569ab1632332b64b2c03c39dcf918b08424e98f38b5ae0af88f"
   }
  }
 },
 "nbformat": 4,
 "nbformat_minor": 2
}
